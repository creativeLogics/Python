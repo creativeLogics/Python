{
 "cells": [
  {
   "cell_type": "code",
   "execution_count": 2,
   "metadata": {},
   "outputs": [
    {
     "name": "stdout",
     "output_type": "stream",
     "text": [
      "first_name = Atif\n",
      "last_name = Ahmed\n",
      "age = 23\n",
      "city = Islamabad\n",
      "\n",
      " New key added in Dictionary \n",
      "\n",
      "first_name = Atif\n",
      "last_name = Ahmed\n",
      "age = 23\n",
      "city = Islamabad\n",
      "qualification = FSC\n",
      "\n",
      " Qualification Updated in Dictionary \n",
      "\n",
      "first_name = Atif\n",
      "last_name = Ahmed\n",
      "age = 23\n",
      "city = Islamabad\n",
      "qualification = BSCS\n"
     ]
    }
   ],
   "source": [
    "# Question 1: Use a dictionary to store information about a person you know.\n",
    "# Store their first name, last name, age, and the city in which they live.\n",
    "# You should have keys such as first_name, last_name, age, and city. Print each piece of information stored in your dictionary.\n",
    "# Add a new key value pair about qualification then update the qualification value to high academic level then delete it.\n",
    "# Answer :\n",
    "persons= {\n",
    "    'first_name': \"Atif\",\n",
    "    'last_name': \"Ahmed\",\n",
    "    'age': 23,\n",
    "    'city': \"Islamabad\"\n",
    "}\n",
    "for key,value in persons.items():\n",
    "    print (key, \"=\", value);\n",
    "\n",
    "# Adding Qualification Key in Person Object\n",
    "persons['qualification'] = 'FSC'\n",
    "print(\"\\n New key added in Dictionary \\n\")\n",
    "\n",
    "for key,value in persons.items():\n",
    "    print (key, \"=\", value);\n",
    "    \n",
    "# Updating Qualification in Person Object\n",
    "persons.update({'qualification': 'BSCS'})\n",
    "print(\"\\n Qualification Updated in Dictionary \\n\")\n",
    "\n",
    "for key,value in persons.items():\n",
    "    print (key, \"=\", value);"
   ]
  },
  {
   "cell_type": "code",
   "execution_count": 3,
   "metadata": {},
   "outputs": [
    {
     "name": "stdout",
     "output_type": "stream",
     "text": [
      "\t karachi\n",
      "country :  Pakistan\n",
      "population :  14.91 million\n",
      "fact :  City Of Lights And Biryani\n",
      "\n",
      "\n",
      "\t lahore\n",
      "country :  Pakistan\n",
      "population :  11.13 million\n",
      "fact :  Minar-e-Pakistan And Murgh Chole\n",
      "\n",
      "\n",
      "\t dubai\n",
      "country :  United Arab Emirates\n",
      "population :  3.137 million\n",
      "fact :  Burj Khalifa And Kunafah\n",
      "\n",
      "\n"
     ]
    }
   ],
   "source": [
    "# Question 2: Make a dictionary called cities. Use the names of three cities as keys in your dictionary.\n",
    "# Create a dictionary of information about each city and include the country that the city is in, its approximate population,\n",
    "# and one fact about that city. The keys for each city’s dictionary should be something like country, population, and fact.\n",
    "# Print the name of each city and all of the information you have stored about it.\n",
    "# Answer :\n",
    "cities= {\n",
    "    'karachi': {\n",
    "        'country': 'Pakistan',\n",
    "        'population': '14.91 million',\n",
    "        'fact': 'City Of Lights And Biryani'\n",
    "    },\n",
    "    'lahore': {\n",
    "        'country': 'Pakistan',\n",
    "        'population': '11.13 million',\n",
    "        'fact': 'Minar-e-Pakistan And Murgh Chole'\n",
    "    },\n",
    "    'dubai': {\n",
    "        'country': 'United Arab Emirates',\n",
    "        'population': '3.137 million',\n",
    "        'fact': 'Burj Khalifa And Kunafah'\n",
    "    }\n",
    "}\n",
    "for key,val in cities.items():\n",
    "    print (\"\\t\",key);\n",
    "    for k,v in val.items():\n",
    "        print (k,\": \",v)\n",
    "    print (\"\\n\")"
   ]
  },
  {
   "cell_type": "code",
   "execution_count": 9,
   "metadata": {},
   "outputs": [
    {
     "name": "stdout",
     "output_type": "stream",
     "text": [
      "Enter Your age 19\n",
      "Sir ticket price is $15..\n"
     ]
    }
   ],
   "source": [
    "# Question 3: A movie theater charges different ticket prices depending on a person’s age. If a person is under the age of 3,\n",
    "# the ticket is free; if they are between 3 and 12, the ticket is $10; and if they are over age 12, the ticket is $15.\n",
    "# Write a loop in which you ask users their age, and then tell them the cost of their movie ticket.\n",
    "# Answer :\n",
    "\n",
    "for i in range(1,2):\n",
    "    userAge= int(input(\"Enter Your age \"))\n",
    "    if(userAge < 3):\n",
    "        print(\"Sir ticket price is free for you have a nice time..\")\n",
    "    elif(userAge >= 3 and userAge <= 12):\n",
    "        print(\"Sir ticket price is $10..\")\n",
    "    else:\n",
    "        print(\"Sir ticket price is $15..\")\n",
    "    "
   ]
  },
  {
   "cell_type": "code",
   "execution_count": 11,
   "metadata": {},
   "outputs": [
    {
     "name": "stdout",
     "output_type": "stream",
     "text": [
      "One of my favorite book is Alice in Wonderland\n"
     ]
    }
   ],
   "source": [
    "# Question 4: Write a function called favorite_book() that accepts one parameter, title. The function should print a message,\n",
    "# such as One of my favorite_books is Alice in Wonderland. Call the function, making sure to include a book title as an\n",
    "# argument in the function call.\n",
    "# Answer :\n",
    "def favorite_book(title):\n",
    "    print(\"One of my favorite book is\", title)\n",
    "\n",
    "favorite_book(\"Alice in Wonderland\")"
   ]
  },
  {
   "cell_type": "code",
   "execution_count": 21,
   "metadata": {},
   "outputs": [
    {
     "name": "stdout",
     "output_type": "stream",
     "text": [
      "Guess the number 16\n",
      "hint: Your number 16  is less then Answer\n",
      "Guess the number 12\n",
      "hint: Your number 12  is less then Answer\n",
      "Guess the number 6\n",
      "Your Answer 6  is correct\n",
      "The correct Answer is 6\n"
     ]
    }
   ],
   "source": [
    "# Question 5: Guess the number game\n",
    "# Write a program which randomly generate a number between 1 to 30 and ask the user in input field to guess the correct number.\n",
    "# Give three chances to user guess the number and also give hint to user if hidden number is greater or smaller than the number\n",
    "# he given to input field.\n",
    "# Answer :\n",
    "from random import randrange\n",
    "answer= randrange(1,30)\n",
    "for i in range(1,4):\n",
    "    userAnswer= int(input(\"Guess the number \"))\n",
    "    if(userAnswer == answer):\n",
    "        print(\"Your Answer\", userAnswer,\" is correct\")\n",
    "    elif(userAnswer < answer):\n",
    "        print(\"hint: Your number\", userAnswer,\" is Greater then Answer\")\n",
    "    elif(userAnswer > answer):\n",
    "        print(\"hint: Your number\", userAnswer,\" is less then Answer\")\n",
    "    else:\n",
    "        print(\"Sorry an Error has Occured...\")\n",
    "print(\"The correct Answer is\", answer)"
   ]
  }
 ],
 "metadata": {
  "kernelspec": {
   "display_name": "Python 3",
   "language": "python",
   "name": "python3"
  },
  "language_info": {
   "codemirror_mode": {
    "name": "ipython",
    "version": 3
   },
   "file_extension": ".py",
   "mimetype": "text/x-python",
   "name": "python",
   "nbconvert_exporter": "python",
   "pygments_lexer": "ipython3",
   "version": "3.7.4"
  }
 },
 "nbformat": 4,
 "nbformat_minor": 2
}
