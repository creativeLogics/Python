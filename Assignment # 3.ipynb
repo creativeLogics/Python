{
 "cells": [
  {
   "cell_type": "code",
   "execution_count": 2,
   "metadata": {},
   "outputs": [
    {
     "name": "stdout",
     "output_type": "stream",
     "text": [
      "First Value 10\n",
      "Second Value 20\n",
      "Enter Operator /\n",
      "0.5\n"
     ]
    }
   ],
   "source": [
    "# Task 1 Making Calculater in Python\n",
    "first_val= int(input('First Value ')) # Get the First value from User\n",
    "sec_val= int(input('Second Value ')) # Get the Second value from User\n",
    "operator= input('Enter Operator ') # Get the Operater fom User\n",
    "if operator == \"+\" : # Addition Operater\n",
    "    print(first_val + sec_val)\n",
    "elif operator == \"-\" : # Subtraction Operater\n",
    "    print(first_val - sec_val)\n",
    "elif operator == \"*\" : # Multiplication Operater\n",
    "    print(first_val * sec_val)\n",
    "elif operator == \"/\" : # Division Operater\n",
    "    print(first_val / sec_val)\n",
    "elif operator == \"**\" :  # Power Operater\n",
    "    print(first_val ** sec_val)\n",
    "else :\n",
    "    print(\"Please Enter Correct Operator\")"
   ]
  },
  {
   "cell_type": "code",
   "execution_count": 3,
   "metadata": {},
   "outputs": [
    {
     "name": "stdout",
     "output_type": "stream",
     "text": [
      "[10, 20]\n"
     ]
    }
   ],
   "source": [
    "# Task 2 Making Program to find number value in a List\n",
    "myList= ['not number', '10', 'Maybe next', 20]\n",
    "listNumb= []\n",
    "for val in myList :\n",
    "    if type(val) == int or val.isdigit():\n",
    "        listNumb.append(int(val))\n",
    "    else :\n",
    "        continue;\n",
    "print(listNumb)"
   ]
  },
  {
   "cell_type": "code",
   "execution_count": 4,
   "metadata": {},
   "outputs": [
    {
     "name": "stdout",
     "output_type": "stream",
     "text": [
      "first method {'name': 'User Name', 'password': 'User Password', 'email': 'example@mail.com', 'address': 'karachi'}\n",
      "Second method {'name': 'User Name', 'password': 'User Password', 'email': 'example@mail.com', 'address': 'karachi', 'updated': True}\n"
     ]
    }
   ],
   "source": [
    "# Task 3 Making Script to add a Key in Dictionary\n",
    "myDict= {\n",
    "    'name': 'User Name',\n",
    "    'password': 'User Password',\n",
    "    'email': 'example@mail.com',\n",
    "}\n",
    "myDict['address']= 'karachi' # Method 1\n",
    "print('first method', myDict)\n",
    "myDict.update({'updated': True}) # Method 2\n",
    "print('Second method', myDict)"
   ]
  },
  {
   "cell_type": "code",
   "execution_count": 5,
   "metadata": {},
   "outputs": [
    {
     "name": "stdout",
     "output_type": "stream",
     "text": [
      "48\n"
     ]
    }
   ],
   "source": [
    "# Task 4 Making Program to sum all the numeric items in a Dictionary\n",
    "mySumDict= {'key1': 'numb', 'key2': 12, 'key3': 7, 'key4': 'string', 'key5': False, 'key6': 29}\n",
    "sumVal= 0\n",
    "for val in mySumDict.values() :\n",
    "    if type(val) == int:\n",
    "        sumVal+= int(val)\n",
    "    else :\n",
    "        continue;\n",
    "print(sumVal)"
   ]
  },
  {
   "cell_type": "code",
   "execution_count": 6,
   "metadata": {},
   "outputs": [
    {
     "name": "stdout",
     "output_type": "stream",
     "text": [
      "These are Duplicate values ['same', 'same', 'another', 'another']\n"
     ]
    }
   ],
   "source": [
    "# Task 5 Making Program to Identify Duplicate values from list\n",
    "myList= ['same', 'change', 'next', 'same', 'another', 'maybe', 'another']\n",
    "dup= []\n",
    "for val in myList :\n",
    "    if myList.count(val) > 1:\n",
    "         dup.append(val)\n",
    "    else :\n",
    "         continue\n",
    "print('These are Duplicate values', dup)"
   ]
  },
  {
   "cell_type": "code",
   "execution_count": 1,
   "metadata": {},
   "outputs": [
    {
     "name": "stdout",
     "output_type": "stream",
     "text": [
      "Enter a Key to find in Dictionary country\n",
      "Your key country already exist in Dictionary\n"
     ]
    }
   ],
   "source": [
    "# Task 6 Making Python Script to check if a given key already exists in a Dictionary\n",
    "myDict= {'name': 'User Name', 'phone': 'User Phone', 'city': 'Karachi', 'country': 'Pakistan'}\n",
    "userKey= input('Enter a Key to find in Dictionary ')\n",
    "if userKey in myDict :\n",
    "     print(\"Your key\", userKey, \"already exist in Dictionary\")\n",
    "else : \n",
    "    print(\"Your key\", userKey, \"doesn't exist in Dictionary\")"
   ]
  },
  {
   "cell_type": "code",
   "execution_count": null,
   "metadata": {},
   "outputs": [],
   "source": []
  }
 ],
 "metadata": {
  "kernelspec": {
   "display_name": "Python 3",
   "language": "python",
   "name": "python3"
  },
  "language_info": {
   "codemirror_mode": {
    "name": "ipython",
    "version": 3
   },
   "file_extension": ".py",
   "mimetype": "text/x-python",
   "name": "python",
   "nbconvert_exporter": "python",
   "pygments_lexer": "ipython3",
   "version": "3.7.4"
  }
 },
 "nbformat": 4,
 "nbformat_minor": 2
}
