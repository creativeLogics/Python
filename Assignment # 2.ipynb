{
 "cells": [
  {
   "cell_type": "code",
   "execution_count": 2,
   "metadata": {},
   "outputs": [
    {
     "name": "stdout",
     "output_type": "stream",
     "text": [
      "Engish Marks 65\n",
      "Pakistan Studies Marks 72\n",
      "Islamiat Marks 84\n",
      "Urdu Marks 52\n",
      "Mathematics Subject Marks out of 100 79\n",
      "Excellent You have obtained  A grade\n"
     ]
    }
   ],
   "source": [
    "# Task 1 Making Mark Sheet\n",
    "subject1= int(input(\"Engish Marks \"))\n",
    "subject2= int(input(\"Pakistan Studies Marks \"))\n",
    "subject3= int(input(\"Islamiat Marks \"))\n",
    "subject4= int(input(\"Urdu Marks \"))\n",
    "subject5= int(input(\"Mathematics Subject Marks out of 100 \"))\n",
    "userTotal= subject1 + subject2 + subject3 + subject4 + subject5\n",
    "totalMarks= 500\n",
    "userPer= userTotal * 100 / totalMarks\n",
    "if userPer >= 80 and userPer <= 100 :\n",
    "    print(\"Marvelous You have obtained  A+ grade\")\n",
    "elif userPer >= 70 and userPer < 80 :\n",
    "    print(\"Excellent You have obtained  A grade\")\n",
    "elif userPer >= 60 and userPer < 70 :\n",
    "    print(\"Good You have obtained  B grade\")\n",
    "elif userPer >= 50 and userPer < 60 :\n",
    "    print(\"Keep it up You have obtained  C grade\")\n",
    "elif userPer >= 0 and userPer < 50 :\n",
    "    print(\"Sorry you didn't pass the exam\")\n",
    "else :\n",
    "    print(\"Max Marks of each subject is 100\")"
   ]
  },
  {
   "cell_type": "code",
   "execution_count": 8,
   "metadata": {},
   "outputs": [
    {
     "name": "stdout",
     "output_type": "stream",
     "text": [
      "Enter An Number43\n",
      "43  is Odd\n"
     ]
    }
   ],
   "source": [
    "# Task 2 Making A Program to Identify number is Odd or Even\n",
    "number= int(input('Enter An Number'))\n",
    "if number % 2 == 0 :\n",
    "    print(number,' is Even')\n",
    "else :\n",
    "    print(number,' is Odd')"
   ]
  },
  {
   "cell_type": "code",
   "execution_count": 9,
   "metadata": {},
   "outputs": [
    {
     "name": "stdout",
     "output_type": "stream",
     "text": [
      "7\n"
     ]
    }
   ],
   "source": [
    "# Task 3 Making A Program to Counting Lentgh of list\n",
    "myList= [10, \"myNumb\", 15, \"secNumb\", 23, True, 19]\n",
    "print(len(myList))"
   ]
  },
  {
   "cell_type": "code",
   "execution_count": 11,
   "metadata": {},
   "outputs": [
    {
     "name": "stdout",
     "output_type": "stream",
     "text": [
      "155\n"
     ]
    }
   ],
   "source": [
    "# Task 4 Making A Program to Summ all number in a list\n",
    "mySumList= [9, 54, True, 12, 79, False]\n",
    "print(sum(mySumList))"
   ]
  },
  {
   "cell_type": "code",
   "execution_count": 12,
   "metadata": {},
   "outputs": [
    {
     "name": "stdout",
     "output_type": "stream",
     "text": [
      "274\n"
     ]
    }
   ],
   "source": [
    "# Task 5 Making A Program to Find th Largest number in a list\n",
    "numbList= [72, 14, 24, 194, 274, 12]\n",
    "print(max(numbList))"
   ]
  },
  {
   "cell_type": "code",
   "execution_count": 18,
   "metadata": {},
   "outputs": [
    {
     "name": "stdout",
     "output_type": "stream",
     "text": [
      "[1, 1, 2, 3]\n"
     ]
    }
   ],
   "source": [
    "# Task 6 Making A Program that prints out all the elements of the list that are less than 5.\n",
    "a = [1, 1, 2, 3, 5, 8, 13, 21, 34, 55, 89]\n",
    "print(a[0: 4])"
   ]
  },
  {
   "cell_type": "code",
   "execution_count": null,
   "metadata": {},
   "outputs": [],
   "source": []
  }
 ],
 "metadata": {
  "kernelspec": {
   "display_name": "Python 3",
   "language": "python",
   "name": "python3"
  },
  "language_info": {
   "codemirror_mode": {
    "name": "ipython",
    "version": 3
   },
   "file_extension": ".py",
   "mimetype": "text/x-python",
   "name": "python",
   "nbconvert_exporter": "python",
   "pygments_lexer": "ipython3",
   "version": "3.7.4"
  }
 },
 "nbformat": 4,
 "nbformat_minor": 2
}
